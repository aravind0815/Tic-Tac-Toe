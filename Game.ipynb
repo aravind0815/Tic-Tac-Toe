{
  "cells": [
    {
      "cell_type": "markdown",
      "metadata": {
        "id": "Z4t-8n3I4Qz0"
      },
      "source": [
        "##Tic Tac Toe game\n"
      ]
    },
    {
      "cell_type": "code",
      "execution_count": 1,
      "metadata": {
        "id": "jw2C20AT4XEN"
      },
      "outputs": [],
      "source": [
        "board = [' ', ' ', ' ', ' ', ' ', ' ', ' ', ' ', ' ']\n"
      ]
    },
    {
      "cell_type": "code",
      "execution_count": 2,
      "metadata": {
        "id": "AXl3nc3p4t4a"
      },
      "outputs": [],
      "source": [
        "def display_board(board):\n",
        "  row1 = board[0:3]\n",
        "  row2 = board[3:6]\n",
        "  row3 = board[6:9]\n",
        "  print(f'{row1[0]} | {row1[1]} | {row1[2]}')\n",
        "  print(\"----------\")\n",
        "  print(f'{row2[0]} | {row2[1]} | {row2[2]}')\n",
        "  print(\"----------\")\n",
        "  print(f'{row3[0]} | {row3[1]} | {row3[2]}')"
      ]
    },
    {
      "cell_type": "code",
      "execution_count": 3,
      "metadata": {
        "colab": {
          "base_uri": "https://localhost:8080/"
        },
        "id": "xr7NOYrA4_1i",
        "outputId": "b1ead972-410f-45cd-e020-e471592a69de"
      },
      "outputs": [
        {
          "name": "stdout",
          "output_type": "stream",
          "text": [
            "  |   |  \n",
            "----------\n",
            "  |   |  \n",
            "----------\n",
            "  |   |  \n"
          ]
        }
      ],
      "source": [
        "display_board(board)"
      ]
    },
    {
      "cell_type": "code",
      "execution_count": 4,
      "metadata": {
        "id": "bMMPebM45BdS"
      },
      "outputs": [],
      "source": [
        "def player_input():\n",
        "\n",
        "  marker = ' '\n",
        "  player1 = ' '\n",
        "  player2 = ' '\n",
        "\n",
        "  while marker not in ['X', 'O']:\n",
        "\n",
        "    marker = input(\"Enter your marker of choice, X or O : \").upper()\n",
        "\n",
        "    if marker == 'X':\n",
        "      player1 = 'X'\n",
        "      player2 = 'O'\n",
        "    else:\n",
        "      player1 = 'O'\n",
        "      player2 = 'X'\n",
        "\n",
        "  return (player1,player2)\n",
        "\n"
      ]
    },
    {
      "cell_type": "code",
      "execution_count": 5,
      "metadata": {
        "colab": {
          "base_uri": "https://localhost:8080/"
        },
        "id": "Mdfd0kcV8R5q",
        "outputId": "04420258-7b58-4137-ebc2-81e4951fc2a7"
      },
      "outputs": [
        {
          "data": {
            "text/plain": [
              "('X', 'O')"
            ]
          },
          "execution_count": 5,
          "metadata": {},
          "output_type": "execute_result"
        }
      ],
      "source": [
        "player_input()"
      ]
    },
    {
      "cell_type": "code",
      "execution_count": 6,
      "metadata": {
        "id": "_FzYZRir8S_D"
      },
      "outputs": [],
      "source": [
        "import random\n",
        "\n",
        "def choose_first():\n",
        "\n",
        "  choose = ['Player1', 'Player2']\n",
        "  result = random.choice(choose)\n",
        "  return result\n"
      ]
    },
    {
      "cell_type": "code",
      "execution_count": 7,
      "metadata": {
        "colab": {
          "base_uri": "https://localhost:8080/",
          "height": 35
        },
        "id": "GmPJvdhdFutx",
        "outputId": "4bb06f4b-fe9a-4cae-f1e8-1418e9e73cf0"
      },
      "outputs": [
        {
          "data": {
            "text/plain": [
              "'Player2'"
            ]
          },
          "execution_count": 7,
          "metadata": {},
          "output_type": "execute_result"
        }
      ],
      "source": [
        "choose_first()"
      ]
    },
    {
      "cell_type": "markdown",
      "metadata": {
        "id": "GkrThFyMIsEB"
      },
      "source": [
        "✅ Input from user.\n",
        "✅ Validate: number and range 1-9.\n",
        "✅ Validate: spot is free.\n",
        "✅ Return final valid position (as an integer)."
      ]
    },
    {
      "cell_type": "code",
      "execution_count": 8,
      "metadata": {
        "id": "satnPn8vFwM1"
      },
      "outputs": [],
      "source": [
        "def player_choice(board):\n",
        "\n",
        "  spot = 'False'\n",
        "  accepted_range = range(1,10)\n",
        "  within_range = 'False'\n",
        "\n",
        "  while spot.isdigit() == False or within_range == False:\n",
        "\n",
        "    spot = input(\"Enter your desired position on the board: \")\n",
        "\n",
        "    if spot.isdigit() == False:\n",
        "      print(\"Invalid answer. \\nTry again!\")\n",
        "\n",
        "    if spot.isdigit() == True:\n",
        "\n",
        "      if int(spot) in accepted_range:\n",
        "        index = int(spot) -1\n",
        "        within_range = True\n",
        "\n",
        "        if board[index] == ' ':\n",
        "\n",
        "          return int(spot)\n",
        "\n",
        "        elif board[index] != ' ':\n",
        "\n",
        "          print(f'Try another spot. {spot} already occupied!')\n",
        "          within_range = False\n",
        "\n",
        "      else:\n",
        "        within_range = False\n",
        "        print(\"Wrong index value!\")\n"
      ]
    },
    {
      "cell_type": "code",
      "execution_count": 9,
      "metadata": {
        "colab": {
          "base_uri": "https://localhost:8080/"
        },
        "id": "C8PLTRruKVuw",
        "outputId": "e68929dd-3004-428c-bb36-cb392e563e65"
      },
      "outputs": [],
      "source": [
        "position = player_choice(board)"
      ]
    },
    {
      "cell_type": "code",
      "execution_count": 10,
      "metadata": {
        "id": "QUaHbWBFVN9M"
      },
      "outputs": [],
      "source": [
        "def place_marker(board, marker, position):\n",
        "    board[position - 1] = marker"
      ]
    },
    {
      "cell_type": "code",
      "execution_count": 11,
      "metadata": {
        "colab": {
          "base_uri": "https://localhost:8080/"
        },
        "id": "RIduEJQ0V1TO",
        "outputId": "6c25243e-4191-40cd-890a-ba594b9b2042"
      },
      "outputs": [
        {
          "data": {
            "text/plain": [
              "[' ', ' ', ' ', ' ', ' ', ' ', ' ', ' ', ' ']"
            ]
          },
          "execution_count": 11,
          "metadata": {},
          "output_type": "execute_result"
        }
      ],
      "source": [
        "board"
      ]
    },
    {
      "cell_type": "code",
      "execution_count": 12,
      "metadata": {
        "id": "uHd1Ar7GV2Yi"
      },
      "outputs": [],
      "source": [
        "def win_check(board, mark):\n",
        "\n",
        "  return ((board[0] == board[1] == board[2] == mark) or\n",
        "            (board[3] == board[4] == board[5] == mark) or\n",
        "            (board[6] == board[7] == board[8] == mark) or\n",
        "            (board[0] == board[3] == board[6] == mark) or\n",
        "            (board[1] == board[4] == board[7] == mark) or\n",
        "            (board[2] == board[5] == board[8] == mark) or\n",
        "            (board[0] == board[4] == board[8] == mark) or\n",
        "            (board[2] == board[4] == board[6] == mark))"
      ]
    },
    {
      "cell_type": "code",
      "execution_count": 13,
      "metadata": {
        "id": "AmPmiMVuXO5g"
      },
      "outputs": [],
      "source": [
        "def is_board_full(board):\n",
        "  for i in board:\n",
        "    if i == ' ':\n",
        "      return False\n",
        "  return True\n"
      ]
    },
    {
      "cell_type": "markdown",
      "metadata": {
        "id": "BKclpnqhZel0"
      },
      "source": [
        "    # 1. Create board\n",
        "    # 2. Ask player 1 marker\n",
        "    # 3. Choose first player\n",
        "    # 4. Ready to play?\n",
        "    # 5. While game_on:\n",
        "       # - Player moves\n",
        "       # - Place marker\n",
        "       # - Check win/tie\n",
        "       # - Switch turn\n",
        "    # 6. After game, ask replay"
      ]
    },
    {
      "cell_type": "markdown",
      "metadata": {
        "id": "NHWu8IaOcZFb"
      },
      "source": [
        "🟠 1. Setup Phase (Before Loop Starts)\n",
        "✅ 1. Create an empty board (9 spaces ' ').\n",
        "\n",
        "✅ 2. Ask Player 1 to choose marker ('X' or 'O') → set player1_marker and player2_marker.\n",
        "\n",
        "✅ 3. Randomly choose who goes first (\"Player 1\" or \"Player 2\").\n",
        "\n",
        "✅ 4. Ask: \"Ready to play? Yes or No\"\n",
        "\n",
        "If No → exit program.\n",
        "\n",
        "If Yes → set game_on = True.\n",
        "\n",
        "🟠 2. Start the Game Loop (while game_on)\n",
        "✅ 5. If it's Player 1's turn:\n",
        "\n",
        "Display the board.\n",
        "\n",
        "Ask Player 1 to choose a valid position.\n",
        "\n",
        "Place Player 1’s marker on the board.\n",
        "\n",
        "Check if Player 1 wins:\n",
        "\n",
        "If yes → Display board → Print \"Player 1 wins!\" → Set game_on = False.\n",
        "\n",
        "Else check if board is full:\n",
        "\n",
        "If yes → Display board → Print \"Tie Game!\" → Set game_on = False.\n",
        "\n",
        "Else:\n",
        "\n",
        "Switch turn to Player 2.\n",
        "\n",
        "✅ 6. Else (Player 2's turn):\n",
        "\n",
        "Display the board.\n",
        "\n",
        "Ask Player 2 to choose a valid position.\n",
        "\n",
        "Place Player 2’s marker on the board.\n",
        "\n",
        "Check if Player 2 wins:\n",
        "\n",
        "If yes → Display board → Print \"Player 2 wins!\" → Set game_on = False.\n",
        "\n",
        "Else check if board is full:\n",
        "\n",
        "If yes → Display board → Print \"Tie Game!\" → Set game_on = False.\n",
        "\n",
        "Else:\n",
        "\n",
        "Switch turn to Player 1.\n",
        "\n",
        "🟠 3. After Game Ends\n",
        "✅ 7. Ask players:\n",
        "\n",
        "\"Do you want to play again? Yes or No\"\n",
        "\n",
        "If Yes → Reset everything (go back to step 1).\n",
        "\n",
        "If No → Exit program with a thank you."
      ]
    },
    {
      "cell_type": "code",
      "execution_count": 14,
      "metadata": {
        "id": "Pdrcvx76YJag"
      },
      "outputs": [],
      "source": [
        "def play_game():\n",
        "\n",
        "  board = [' ', ' ', ' ', ' ', ' ', ' ', ' ', ' ', ' ']\n",
        "  player1_marker, player2_marker = player_input()\n",
        "  first_player = choose_first()\n",
        "  game_on = False\n",
        "\n",
        "  ready = input(\"Ready to play? Yes or No\")\n",
        "\n",
        "  if ready.lower() == 'yes':\n",
        "    game_on = True\n",
        "  else:\n",
        "    game_on = False\n",
        "    exit()\n",
        "\n",
        "  while game_on == True:\n",
        "\n",
        "    if first_player == 'Player1':\n",
        "      display_board(board)\n",
        "      marker = player1_marker\n",
        "      position = player_choice(board)\n",
        "      place_marker(board, marker, position)\n",
        "      if win_check(board, marker) == True:\n",
        "        print(f'{first_player} WON!!!')\n",
        "        game_on = False\n",
        "      elif is_board_full(board) == True:\n",
        "        print(\"Tie game \")\n",
        "        game_on = False\n",
        "      else:\n",
        "        first_player = 'Player2'\n",
        "    else:\n",
        "      display_board(board)\n",
        "      marker = player2_marker\n",
        "      position = player_choice(board)\n",
        "      place_marker(board, marker, position)\n",
        "      if win_check(board, marker) == True:\n",
        "        print(f'{marker} WON!!!')\n",
        "        game_on = False\n",
        "      elif is_board_full(board) == True:\n",
        "        print(\"Tie game \")\n",
        "        game_on = False\n",
        "      else:\n",
        "        first_player = 'Player1'\n",
        "\n",
        "  response = input(\"Do you want to play again? Yes or No: \")\n",
        "  if response.lower() == 'yes':\n",
        "    play_game()\n",
        "  else:\n",
        "    pass\n",
        "\n",
        "\n"
      ]
    },
    {
      "cell_type": "code",
      "execution_count": 15,
      "metadata": {
        "colab": {
          "base_uri": "https://localhost:8080/"
        },
        "id": "fMiFGTHSbF96",
        "outputId": "09309db8-f9af-4962-f635-83f4ab10f5f1"
      },
      "outputs": [
        {
          "name": "stdout",
          "output_type": "stream",
          "text": [
            "  |   |  \n",
            "----------\n",
            "  |   |  \n",
            "----------\n",
            "  |   |  \n",
            "O |   |  \n",
            "----------\n",
            "  |   |  \n",
            "----------\n",
            "  |   |  \n",
            "O | X |  \n",
            "----------\n",
            "  |   |  \n",
            "----------\n",
            "  |   |  \n",
            "O | X |  \n",
            "----------\n",
            "  | O |  \n",
            "----------\n",
            "  |   |  \n",
            "O | X | X\n",
            "----------\n",
            "  | O |  \n",
            "----------\n",
            "  |   |  \n",
            "Player1 WON!!!\n"
          ]
        }
      ],
      "source": [
        "play_game()"
      ]
    },
    {
      "cell_type": "code",
      "execution_count": null,
      "metadata": {
        "id": "KZG_dvMpfBJz"
      },
      "outputs": [],
      "source": []
    }
  ],
  "metadata": {
    "colab": {
      "provenance": []
    },
    "kernelspec": {
      "display_name": "Python 3",
      "name": "python3"
    },
    "language_info": {
      "codemirror_mode": {
        "name": "ipython",
        "version": 3
      },
      "file_extension": ".py",
      "mimetype": "text/x-python",
      "name": "python",
      "nbconvert_exporter": "python",
      "pygments_lexer": "ipython3",
      "version": "3.9.6"
    }
  },
  "nbformat": 4,
  "nbformat_minor": 0
}
